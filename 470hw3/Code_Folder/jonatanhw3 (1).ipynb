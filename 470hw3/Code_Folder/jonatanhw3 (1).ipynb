{
 "cells": [
  {
   "cell_type": "code",
   "execution_count": 648,
   "id": "e4465a23-ae13-4870-bbd1-40bc394f0d8d",
   "metadata": {},
   "outputs": [],
   "source": [
    "# THIS CODE IS MY OWN WORK, IT WAS WRITTEN WITHOUT\n",
    "#CONSULTING CODE WRITTEN BY OTHER STUDENTS. Jonatan Peguero \n",
    "import pandas as pd\n",
    "import numpy as np\n",
    "import random\n",
    "import math\n",
    "from sklearn.model_selection import train_test_split\n",
    "from sklearn.ensemble import RandomForestClassifier\n",
    "from sklearn.metrics import accuracy_score, precision_score, recall_score, f1_score, confusion_matrix"
   ]
  },
  {
   "cell_type": "code",
   "execution_count": 650,
   "id": "91f1e4ac-c763-4b24-b859-56244acff4e4",
   "metadata": {
    "scrolled": true
   },
   "outputs": [],
   "source": [
    "def load_data_custom(data_path):\n",
    "    data_dict = {}\n",
    "    df = pd.read_csv(data_path)\n",
    "    df.columns = df.columns.str.strip()  # Clean column names\n",
    "    target_col = \"Has heart disease? (Prediction Target)\"\n",
    "    df[target_col] = df[target_col].str.strip().str.lower()\n",
    "    # Use all columns except \"person ID\" and target as features.\n",
    "    feature_names = [col for col in df.columns if col not in [\"person ID\", target_col]]\n",
    "    for _, row in df.iterrows():\n",
    "        pid = str(row[\"person ID\"])\n",
    "        label = row[target_col]\n",
    "        features = {col: row[col] for col in feature_names}\n",
    "        data_dict[pid] = {\"features\": features, \"label\": label}\n",
    "    return data_dict, feature_names\n"
   ]
  },
  {
   "cell_type": "code",
   "execution_count": 652,
   "id": "85e8a426-f394-4319-992b-65c167b42911",
   "metadata": {},
   "outputs": [],
   "source": [
    "def read_ids_from_file(filepath):\n",
    "    ids = []\n",
    "    with open(filepath, 'r') as f:\n",
    "        for line in f:\n",
    "            line = line.strip()\n",
    "            if line:\n",
    "                ids.append(line)\n",
    "    return ids"
   ]
  },
  {
   "cell_type": "code",
   "execution_count": 654,
   "id": "e6f4cdae-8067-45d5-993e-8a9a56b7a4e9",
   "metadata": {},
   "outputs": [],
   "source": [
    "def entropy(examples):\n",
    "    label_counts = Counter(ex['label'] for ex in examples)\n",
    "    total = len(examples)\n",
    "    ent = 0.0\n",
    "    for lbl, count in label_counts.items():\n",
    "        p = count / total\n",
    "        if p > 0:\n",
    "            ent -= p * math.log2(p)\n",
    "    return ent"
   ]
  },
  {
   "cell_type": "code",
   "execution_count": 656,
   "id": "4d26f014-7e66-4ccc-a94b-2f178a37e7f3",
   "metadata": {},
   "outputs": [],
   "source": [
    "def information_gain(examples, attribute):\n",
    "    base_ent = entropy(examples)\n",
    "    subsets = defaultdict(list)\n",
    "    for ex in examples:\n",
    "        subsets[ex['features'].get(attribute, None)].append(ex)\n",
    "    total = len(examples)\n",
    "    split_ent = 0.0\n",
    "    for subset in subsets.values():\n",
    "        weight = len(subset) / total\n",
    "        split_ent += weight * entropy(subset)\n",
    "    return base_ent - split_ent"
   ]
  },
  {
   "cell_type": "code",
   "execution_count": 658,
   "id": "0202d989-be6a-40cf-b1c4-6fdedd03d826",
   "metadata": {},
   "outputs": [],
   "source": [
    "def choose_best_attribute(examples, attributes):\n",
    "    best_attr = None\n",
    "    best_gain = -1\n",
    "    for attr in attributes:\n",
    "        gain = information_gain(examples, attr)\n",
    "        if gain > best_gain:\n",
    "            best_gain = gain\n",
    "            best_attr = attr\n",
    "    return best_attr\n"
   ]
  },
  {
   "cell_type": "code",
   "execution_count": 660,
   "id": "2a136d3c-2f1b-4311-8c13-eabad399db3f",
   "metadata": {},
   "outputs": [],
   "source": [
    "class TreeNode:\n",
    "    def __init__(self, attribute=None, label=None):\n",
    "        self.attribute = attribute\n",
    "        self.label = label\n",
    "        self.children = {}"
   ]
  },
  {
   "cell_type": "code",
   "execution_count": 662,
   "id": "2b97d789-249a-45ef-b918-6d8556433b75",
   "metadata": {},
   "outputs": [],
   "source": [
    "def build_tree(examples, attributes, depth=0, max_depth=5, min_samples_split=5):\n",
    "    if not examples or len(examples) < min_samples_split:\n",
    "        if examples:\n",
    "            common_label = Counter(ex['label'] for ex in examples).most_common(1)[0][0]\n",
    "            return TreeNode(label=common_label)\n",
    "        else:\n",
    "            return TreeNode(label=\"no\")\n",
    "    \n",
    "    all_labels = set(ex['label'] for ex in examples)\n",
    "    if len(all_labels) == 1:\n",
    "        return TreeNode(label=all_labels.pop())\n",
    "    \n",
    "    if not attributes or depth >= max_depth:\n",
    "        common_label = Counter(ex['label'] for ex in examples).most_common(1)[0][0]\n",
    "        return TreeNode(label=common_label)\n",
    "    \n",
    "    best_attr = choose_best_attribute(examples, attributes)\n",
    "    root = TreeNode(attribute=best_attr)\n",
    "    \n",
    "    subsets = defaultdict(list)\n",
    "    for ex in examples:\n",
    "        attr_val = ex['features'].get(best_attr, None)\n",
    "        subsets[attr_val].append(ex)\n",
    "    \n",
    "    remaining_attrs = [attr for attr in attributes if attr != best_attr]\n",
    "    for val, subset in subsets.items():\n",
    "        child_node = build_tree(subset, remaining_attrs, depth+1, max_depth, min_samples_split)\n",
    "        root.children[val] = child_node\n",
    "    \n",
    "    return root"
   ]
  },
  {
   "cell_type": "code",
   "execution_count": 664,
   "id": "14f3f67f-07ef-46b3-b9c7-a87ca43510ed",
   "metadata": {},
   "outputs": [],
   "source": [
    "def predict(tree, example):\n",
    "    if tree.label is not None:\n",
    "        return tree.label\n",
    "    attr_value = example['features'].get(tree.attribute, None)\n",
    "    if attr_value not in tree.children:\n",
    "        label_counts = Counter()\n",
    "        def collect_labels(node):\n",
    "            if node.label is not None:\n",
    "                label_counts[node.label] += 1\n",
    "            for child in node.children.values():\n",
    "                collect_labels(child)\n",
    "        collect_labels(tree)\n",
    "        return label_counts.most_common(1)[0][0] if label_counts else \"no\"\n",
    "    return predict(tree.children[attr_value], example)"
   ]
  },
  {
   "cell_type": "code",
   "execution_count": 666,
   "id": "99b4e5c7-b361-4e42-9135-35dfc5932a6e",
   "metadata": {},
   "outputs": [],
   "source": [
    "def evaluate_model(ground_truth, pred_labels):\n",
    "    acc = accuracy_score(ground_truth, pred_labels)\n",
    "    prec = precision_score(ground_truth, pred_labels, pos_label=\"yes\")\n",
    "    rec = recall_score(ground_truth, pred_labels, pos_label=\"yes\")\n",
    "    f1 = f1_score(ground_truth, pred_labels, pos_label=\"yes\")\n",
    "    cm = confusion_matrix(ground_truth, pred_labels, labels=[\"yes\", \"no\"])\n",
    "    TP = cm[0,0]\n",
    "    FN = cm[0,1]\n",
    "    FP = cm[1,0]\n",
    "    TN = cm[1,1]\n",
    "    spec = TN / (TN + FP) if (TN + FP) > 0 else 0\n",
    "    sensitivity = rec\n",
    "    return acc, prec, rec, f1, spec, sensitivity"
   ]
  },
  {
   "cell_type": "code",
   "execution_count": 668,
   "id": "d2e3e780-5050-44f0-a7e8-e10faa104cde",
   "metadata": {},
   "outputs": [
    {
     "name": "stdout",
     "output_type": "stream",
     "text": [
      "Columns in CSV: ['person ID', 'age', 'gender', 'chest pain type', 'resting blood pressure', 'serum cholesterol in mg/dl', 'fasting blood sugar > 120 mg/dl', 'resting electrocardiographic results', 'maximum heart rate achieved', 'exercise induced angina', 'oldpeak = ST depression induced by exercise relative to rest', 'the slope of the peak exercise ST segment', 'number of major vessels (0-3) colored by flourosopy', 'Has heart disease? (Prediction Target)']\n"
     ]
    }
   ],
   "source": [
    "df = pd.read_csv(\"hw3data.csv\")\n",
    "df.columns = df.columns.str.strip()\n",
    "print(\"Columns in CSV:\", df.columns.tolist())\n",
    "\n",
    "# Process the target column (adjust name as needed)\n",
    "target_col = \"Has heart disease? (Prediction Target)\"\n",
    "df[target_col] = df[target_col].str.strip().str.lower()\n",
    "df[target_col] = df[target_col].map({\"yes\": 1, \"no\": 0})\n",
    "\n",
    "# Process binary columns\n",
    "df[\"fasting blood sugar > 120 mg/dl\"] = df[\"fasting blood sugar > 120 mg/dl\"].str.strip().str.lower()\n",
    "df[\"fasting blood sugar > 120 mg/dl\"] = df[\"fasting blood sugar > 120 mg/dl\"].map({\"yes\": 1, \"no\": 0})\n",
    "df[\"exercise induced angina\"] = df[\"exercise induced angina\"].str.strip().str.lower()\n",
    "df[\"exercise induced angina\"] = df[\"exercise induced angina\"].map({\"yes\": 1, \"no\": 0})\n",
    "\n",
    "# Convert gender column to numeric: \"M\" -> 1, \"F\" -> 0.\n",
    "df[\"gender\"] = df[\"gender\"].str.strip().str.upper().map({\"M\": 1, \"F\": 0})\n",
    "\n",
    "# One-hot encode categorical columns\n",
    "categorical_cols = [\"chest pain type\", \"resting electrocardiographic results\"]\n",
    "df = pd.get_dummies(df, columns=categorical_cols, drop_first=True)\n",
    "\n",
    "# Optional: Bin the \"age\" column into categories\n",
    "def bin_age(age):\n",
    "    if age < 40:\n",
    "        return \"Under_40\"\n",
    "    elif age < 60:\n",
    "        return \"40_59\"\n",
    "    else:\n",
    "        return \"60_plus\"\n",
    "\n",
    "df[\"age_bin\"] = df[\"age\"].apply(bin_age)\n",
    "df = pd.get_dummies(df, columns=[\"age_bin\"], drop_first=True)\n",
    "df = df.drop(columns=[\"age\"])\n",
    "\n",
    "ids = df[\"person ID\"].astype(str).tolist()\n",
    "\n",
    "feature_cols = [col for col in df.columns if col not in [\"person ID\", target_col]]\n",
    "X = df[feature_cols]\n",
    "y = df[target_col]\n",
    "X = X.apply(pd.to_numeric, errors='coerce')\n",
    "X = X.fillna(X.median())\n"
   ]
  },
  {
   "cell_type": "code",
   "execution_count": 670,
   "id": "2b03900b-6564-48fc-ad91-1b44d70c4a8e",
   "metadata": {},
   "outputs": [
    {
     "name": "stdout",
     "output_type": "stream",
     "text": [
      "Total records: 303\n",
      "Training set size: 212\n",
      "Test set size: 91\n",
      "Random 70-30 train/test split saved to para2_file.txt and para3_file.txt\n"
     ]
    }
   ],
   "source": [
    "X_train, X_test, y_train, y_test, ids_train, ids_test = train_test_split(\n",
    "    X, y, ids,\n",
    "    test_size=0.3,\n",
    "    random_state=42,\n",
    "    stratify=y\n",
    ")\n",
    "\n",
    "print(f\"Total records: {len(ids)}\")\n",
    "print(f\"Training set size: {len(ids_train)}\")\n",
    "print(f\"Test set size: {len(ids_test)}\")\n",
    "\n",
    "with open(\"para2_file.txt\", \"w\") as f:\n",
    "    for pid in ids_train:\n",
    "        f.write(pid + \"\\n\")\n",
    "\n",
    "with open(\"para3_file.txt\", \"w\") as f:\n",
    "    for pid in ids_test:\n",
    "        f.write(pid + \"\\n\")\n",
    "\n",
    "print(\"Random 70-30 train/test split saved to para2_file.txt and para3_file.txt\")"
   ]
  },
  {
   "cell_type": "code",
   "execution_count": 677,
   "id": "980abe49-9291-42e3-86be-b6c4b1d0db08",
   "metadata": {},
   "outputs": [
    {
     "name": "stdout",
     "output_type": "stream",
     "text": [
      "Random Forest predictions have been written to para4_file.txt\n",
      "\n",
      "Random Forest Evaluation (70/30 Hold-Out):\n",
      "Accuracy:        0.8132\n",
      "Precision:       0.8000\n",
      "Recall (Sensitivity): 0.8800\n",
      "F-measure (F1 Score):   0.8381\n",
      "Specificity:     0.7317\n",
      "Sensitivity:     0.8800\n"
     ]
    }
   ],
   "source": [
    "rf = RandomForestClassifier(n_estimators=100, max_depth=10, random_state=42)\n",
    "rf.fit(X_train, y_train)\n",
    "rf_pred = rf.predict(X_test)\n",
    "\n",
    "with open(\"para4_file.txt\", \"w\") as f:\n",
    "    for pid, pred in zip(ids_test, rf_pred):\n",
    "        label_str = \"yes\" if pred == 1 else \"no\"\n",
    "        f.write(f\"{pid} {label_str}\\n\")\n",
    "print(\"Random Forest predictions have been written to para4_file.txt\")\n",
    "\n",
    "rf_acc = accuracy_score(y_test, rf_pred)\n",
    "rf_prec = precision_score(y_test, rf_pred, pos_label=1)\n",
    "rf_rec = recall_score(y_test, rf_pred, pos_label=1)\n",
    "rf_f1 = f1_score(y_test, rf_pred, pos_label=1)\n",
    "cm_rf = confusion_matrix(y_test, rf_pred, labels=[1, 0])\n",
    "TP = cm_rf[0, 0]\n",
    "FN = cm_rf[0, 1]\n",
    "FP = cm_rf[1, 0]\n",
    "TN = cm_rf[1, 1]\n",
    "rf_spec = TN / (TN + FP) if (TN + FP) > 0 else 0\n",
    "\n",
    "print(\"\\nRandom Forest Evaluation (70/30 Hold-Out):\")\n",
    "print(f\"Accuracy:        {rf_acc:.4f}\")\n",
    "print(f\"Precision:       {rf_prec:.4f}\")\n",
    "print(f\"Recall (Sensitivity): {rf_rec:.4f}\")\n",
    "print(f\"F-measure (F1 Score):   {rf_f1:.4f}\")\n",
    "print(f\"Specificity:     {rf_spec:.4f}\")\n",
    "print(f\"Sensitivity:     {rf_rec:.4f}\")"
   ]
  },
  {
   "cell_type": "code",
   "execution_count": null,
   "id": "3fa71091-c73f-4466-8729-ab620e701c82",
   "metadata": {},
   "outputs": [],
   "source": []
  },
  {
   "cell_type": "code",
   "execution_count": null,
   "id": "6ca5b2a5-bb7a-4d72-947e-88932524a38f",
   "metadata": {},
   "outputs": [],
   "source": []
  }
 ],
 "metadata": {
  "kernelspec": {
   "display_name": "Python 3 (ipykernel)",
   "language": "python",
   "name": "python3"
  },
  "language_info": {
   "codemirror_mode": {
    "name": "ipython",
    "version": 3
   },
   "file_extension": ".py",
   "mimetype": "text/x-python",
   "name": "python",
   "nbconvert_exporter": "python",
   "pygments_lexer": "ipython3",
   "version": "3.11.5"
  }
 },
 "nbformat": 4,
 "nbformat_minor": 5
}

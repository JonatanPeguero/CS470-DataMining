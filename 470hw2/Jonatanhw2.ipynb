{
 "cells": [
  {
   "cell_type": "code",
   "execution_count": 1,
   "id": "ce8f6bd3-75af-4c33-a547-aa89f70cddc2",
   "metadata": {},
   "outputs": [],
   "source": [
    "#Imports \n",
    "import sys\n",
    "import csv\n",
    "from itertools import combinations\n",
    "import pandas as pd  "
   ]
  },
  {
   "cell_type": "code",
   "execution_count": 2,
   "id": "c10f099e-dba8-4365-aa9c-115b29456809",
   "metadata": {},
   "outputs": [],
   "source": [
    "df = pd.read_csv(\"hw2data.csv\")"
   ]
  },
  {
   "cell_type": "code",
   "execution_count": 5,
   "id": "766197af-08aa-40f9-a360-68e0e51ade64",
   "metadata": {},
   "outputs": [
    {
     "name": "stdout",
     "output_type": "stream",
     "text": [
      "Number of transactions: 26206\n",
      "Sample transaction: {'shot', 'got', 'still', 'flu'}\n"
     ]
    }
   ],
   "source": [
    "#Get transactions from the data(iterate through each row and filter key words by semi-colon)\n",
    "def load_transactions_pandas(filename, keyword_column='text_keywords'):\n",
    "    df = pd.read_csv(filename)\n",
    "    transactions = []\n",
    "    for idx, row in df.iterrows():\n",
    "        if pd.notnull(row[keyword_column]):\n",
    "            items = str(row[keyword_column]).split(\";\")\n",
    "            transaction = set(item.strip() for item in items if item.strip())\n",
    "            transactions.append(transaction)\n",
    "    return transactions\n",
    "\n",
    "\n",
    "transactions = load_transactions_pandas(\"hw2data.csv\", \"text_keywords\")\n",
    "print(\"Number of transactions:\", len(transactions))\n",
    "#Way to check if it works. The example shows the key words from the first row and first 10 rows\n",
    "print(\"Sample transaction:\", transactions[0])\n",
    "#for transaction in transactions[:10]:\n",
    "    #print(transaction)"
   ]
  },
  {
   "cell_type": "code",
   "execution_count": 7,
   "id": "2d4047d3-f8b9-4692-9d4b-c26db47c8a3d",
   "metadata": {},
   "outputs": [
    {
     "name": "stdout",
     "output_type": "stream",
     "text": [
      "{'shot': 23167, 'got': 7396, 'still': 990, 'flu': 26186, 'need': 814, 'sick': 1842, 'care': 114, 'something': 137, 'even': 611, 'cold': 348, 'getting': 3087, 'going': 770, 'get': 7647, 'last': 664, 'time': 1404, 'weekend': 109, 'thanks': 416, 'ago': 344, 'every': 569, 'since': 303, 'many': 143, 'amp': 959, 'vaccines': 177, 'year': 1534, 'morning': 329, 'always': 267, 'long': 177, 'first': 633, 'damn': 395, 'think': 649, 'years': 441, 'well': 394, 'fuck': 302, 'sure': 310, 'today': 2729, 'later': 180, 'pretty': 232, 'know': 523, 'least': 132, 'body': 158, 'healthy': 140, 'right': 541, 'gotten': 695, 'sleep': 128, 'feels': 214, 'ever': 479, 'fall': 152, 'like': 1940, 'already': 310, 'arm': 2023, 'hurts': 530, 'months': 149, 'glad': 188, 'shots': 2573, 'came': 106, 'thought': 193, 'back': 280, 'check': 146, 'finally': 259, 'everyone': 356, 'week': 487, 'made': 298, 'fun': 125, 'mom': 552, 'never': 917, 'take': 392, 'whole': 146, 'tonight': 147, 'yet': 283, 'say': 196, 'vaccine': 519, 'fever': 160, 'bed': 115, 'wait': 151, 'man': 184, 'nothing': 125, 'rather': 120, 'health': 206, 'shit': 335, 'keep': 159, 'feeling': 439, 'around': 270, 'guess': 300, 'work': 968, 'hell': 132, 'days': 365, 'may': 107, 'two': 212, 'better': 593, 'hate': 447, 'tetanus': 113, 'really': 580, 'doctor': 327, 'said': 295, 'let': 190, 'home': 189, 'kids': 101, 'school': 147, 'season': 256, 'bad': 401, 'next': 468, 'one': 915, 'maybe': 234, 'happy': 122, 'lol': 503, 'make': 468, 'could': 194, 'feel': 1018, 'gotta': 208, 'new': 149, 'job': 138, 'sore': 675, 'clinic': 306, 'free': 1013, 'though': 256, 'prevent': 105, 'stupid': 178, 'hurt': 298, 'much': 341, 'help': 132, 'good': 498, 'hope': 403, 'side': 140, 'symptoms': 180, 'people': 498, 'center': 155, 'love': 171, 'making': 262, 'says': 122, 'yesterday': 456, 'yay': 122, 'line': 134, 'someone': 234, 'call': 123, 'day': 759, 'tho': 102, 'little': 199, 'asked': 153, 'probably': 174, 'stay': 101, 'please': 166, 'pain': 114, 'doctors': 143, 'needle': 117, 'ugh': 222, 'weeks': 183, 'waiting': 248, 'went': 279, 'fucking': 165, 'hour': 134, 'early': 106, 'blood': 233, 'done': 231, 'immune': 135, 'also': 331, 'gets': 185, 'family': 125, 'real': 103, 'give': 457, 'ass': 169, 'mine': 102, 'cvs': 196, 'nurse': 225, 'strain': 123, 'baby': 109, 'away': 102, 'tomorrow': 475, 'system': 101, 'would': 413, 'giving': 251, 'stop': 152, 'left': 254, 'come': 269, 'works': 101, 'minutes': 113, 'pharmacy': 175, 'dont': 120, 'way': 270, 'might': 126, 'cough': 101, 'actually': 189, 'tell': 134, 'want': 376, 'told': 237, 'yeah': 196, 'haha': 114, 'walgreens': 158, 'definitely': 102, 'times': 121, 'instead': 124, 'either': 117, 'smh': 112, 'thank': 145, 'soon': 172, 'gonna': 330, 'makes': 163, 'friday': 108, 'life': 235, 'late': 221, 'yes': 152, 'ready': 99, 'taking': 151, 'scared': 115, 'old': 107, 'cry': 110, 'remember': 119, 'office': 249, 'another': 120, 'believe': 112, 'insurance': 135, 'hours': 205, 'god': 109, 'great': 202, 'dad': 123, 'die': 144, 'dying': 104, 'gave': 325, 'guy': 108, 'needles': 231, 'trying': 154, 'thing': 218, 'winter': 171, 'wanna': 115, 'refuse': 108, 'cause': 172, 'see': 206, 'hospital': 151, 'without': 127, 'sucks': 100, 'pneumonia': 104, 'night': 143, 'took': 222, 'virus': 146, 'influenza': 136, 'coming': 120, 'lady': 104, 'end': 111, 'almost': 111, 'hit': 111, 'hopefully': 107, 'ebola': 467, 'big': 139, 'month': 125, 'killing': 119}\n"
     ]
    }
   ],
   "source": [
    "#Helper function: counts how many times each character occurs \n",
    "def get_item_counts(transactions):\n",
    "    counts = {}\n",
    "    for transaction in transactions:\n",
    "        for item in transaction:\n",
    "            counts[item] = counts.get(item, 0) + 1\n",
    "    return counts\n",
    "\n",
    "test_method_1 = get_item_counts(transactions)\n",
    "print(test_method_1)"
   ]
  },
  {
   "cell_type": "code",
   "execution_count": 9,
   "id": "c791b88c-f33a-449c-b73d-8a2ea29050d5",
   "metadata": {},
   "outputs": [
    {
     "name": "stdout",
     "output_type": "stream",
     "text": [
      "{'shot': 23167, 'got': 7396, 'still': 990, 'flu': 26186, 'need': 814, 'sick': 1842, 'even': 611, 'getting': 3087, 'going': 770, 'get': 7647, 'last': 664, 'time': 1404, 'every': 569, 'amp': 959, 'year': 1534, 'first': 633, 'think': 649, 'today': 2729, 'know': 523, 'right': 541, 'gotten': 695, 'like': 1940, 'arm': 2023, 'hurts': 530, 'shots': 2573, 'mom': 552, 'never': 917, 'vaccine': 519, 'work': 968, 'better': 593, 'really': 580, 'one': 915, 'lol': 503, 'feel': 1018, 'sore': 675, 'free': 1013, 'day': 759}\n",
      "[{'shot'}, {'got'}, {'still'}, {'flu'}, {'need'}, {'sick'}, {'even'}, {'getting'}, {'going'}, {'get'}, {'last'}, {'time'}, {'every'}, {'amp'}, {'year'}, {'first'}, {'think'}, {'today'}, {'know'}, {'right'}, {'gotten'}, {'like'}, {'arm'}, {'hurts'}, {'shots'}, {'mom'}, {'never'}, {'vaccine'}, {'work'}, {'better'}, {'really'}, {'one'}, {'lol'}, {'feel'}, {'sore'}, {'free'}, {'day'}]\n"
     ]
    }
   ],
   "source": [
    "#Helper function: filters out infrequent 1-itemsets\n",
    "def filter_items_by_support(counts, min_support):\n",
    "    return {\n",
    "        item: cnt \n",
    "        for item, cnt in counts.items() \n",
    "        if cnt >= min_support\n",
    "    }\n",
    "\n",
    "min_support_test = 500\n",
    "test_method_2 = filter_items_by_support(test_method_1, min_support_test)\n",
    "print(test_method_2)\n",
    "freq_itemsets_list = [{item} for item in test_method_2.keys()]\n",
    "print(freq_itemsets_list)"
   ]
  },
  {
   "cell_type": "code",
   "execution_count": 11,
   "id": "17b7bf4a-40b2-4655-beb4-77ced91c48a3",
   "metadata": {},
   "outputs": [
    {
     "name": "stdout",
     "output_type": "stream",
     "text": [
      "{frozenset({'shot', 'sick'}), frozenset({'getting', 'last'}), frozenset({'really', 'flu'}), frozenset({'really', 'getting'}), frozenset({'one', 'hurts'}), frozenset({'going', 'shots'}), frozenset({'really', 'year'}), frozenset({'mom', 'day'}), frozenset({'one', 'free'}), frozenset({'going', 'right'}), frozenset({'need', 'year'}), frozenset({'first', 'hurts'}), frozenset({'hurts', 'last'}), frozenset({'lol', 'sick'}), frozenset({'shot', 'never'}), frozenset({'going', 'got'}), frozenset({'like', 'work'}), frozenset({'need', 'today'}), frozenset({'mom', 'think'}), frozenset({'shot', 'getting'}), frozenset({'still', 'day'}), frozenset({'need', 'going'}), frozenset({'work', 'better'}), frozenset({'day', 'flu'}), frozenset({'like', 'flu'}), frozenset({'time', 'lol'}), frozenset({'know', 'last'}), frozenset({'shot', 'hurts'}), frozenset({'like', 'better'}), frozenset({'need', 'got'}), frozenset({'shot', 'get'}), frozenset({'every', 'lol'}), frozenset({'better', 'know'}), frozenset({'vaccine', 'time'}), frozenset({'still', 'think'}), frozenset({'sore', 'sick'}), frozenset({'time', 'last'}), frozenset({'like', 'last'}), frozenset({'need', 'right'}), frozenset({'even', 'amp'}), frozenset({'vaccine', 'sore'}), frozenset({'never', 'one'}), frozenset({'getting', 'sick'}), frozenset({'right', 'last'}), frozenset({'mom', 'work'}), frozenset({'every', 'feel'}), frozenset({'know', 'right'}), frozenset({'hurts', 'lol'}), frozenset({'need', 'last'}), frozenset({'getting', 'better'}), frozenset({'going', 'arm'}), frozenset({'flu', 'lol'}), frozenset({'like', 'time'}), frozenset({'day', 'time'}), frozenset({'amp', 'flu'}), frozenset({'year', 'lol'}), frozenset({'mom', 'first'}), frozenset({'still', 'get'}), frozenset({'gotten', 'never'}), frozenset({'getting', 'today'}), frozenset({'feel', 'sore'}), frozenset({'vaccine', 'shots'}), frozenset({'every', 'first'}), frozenset({'amp', 'today'}), frozenset({'today', 'lol'}), frozenset({'vaccine', 'better'}), frozenset({'shots', 'sick'}), frozenset({'never', 'think'}), frozenset({'first', 'sore'}), frozenset({'better', 'sick'}), frozenset({'need', 'amp'}), frozenset({'work', 'lol'}), frozenset({'amp', 'get'}), frozenset({'day', 'hurts'}), frozenset({'amp', 'right'}), frozenset({'think', 'arm'}), frozenset({'going', 'one'}), frozenset({'first', 'think'}), frozenset({'really', 'sick'}), frozenset({'never', 'free'}), frozenset({'work', 'sore'}), frozenset({'never', 'shots'}), frozenset({'like', 'amp'}), frozenset({'vaccine', 'first'}), frozenset({'day', 'shots'}), frozenset({'shot', 'sore'}), frozenset({'shot', 'right'}), frozenset({'first', 'today'}), frozenset({'gotten', 'getting'}), frozenset({'mom', 'vaccine'}), frozenset({'need', 'feel'}), frozenset({'really', 'even'}), frozenset({'really', 'gotten'}), frozenset({'work', 'feel'}), frozenset({'know', 'year'}), frozenset({'gotten', 'today'}), frozenset({'know', 'flu'}), frozenset({'first', 'shots'}), frozenset({'mom', 'lol'}), frozenset({'day', 'today'}), frozenset({'going', 'hurts'}), frozenset({'need', 'never'}), frozenset({'still', 'today'}), frozenset({'really', 'sore'}), frozenset({'work', 'last'}), frozenset({'vaccine', 'still'}), frozenset({'get', 'know'}), frozenset({'day', 'sick'}), frozenset({'even', 'think'}), frozenset({'one', 'last'}), frozenset({'free', 'flu'}), frozenset({'still', 'better'}), frozenset({'got', 'last'}), frozenset({'shot', 'lol'}), frozenset({'every', 'get'}), frozenset({'year', 'sore'}), frozenset({'still', 'lol'}), frozenset({'going', 'think'}), frozenset({'got', 'know'}), frozenset({'mom', 'feel'}), frozenset({'get', 'free'}), frozenset({'better', 'year'}), frozenset({'getting', 'year'}), frozenset({'hurts', 'get'}), frozenset({'never', 'time'}), frozenset({'really', 'today'}), frozenset({'still', 'sore'}), frozenset({'getting', 'flu'}), frozenset({'really', 'last'}), frozenset({'better', 'today'}), frozenset({'vaccine', 'lol'}), frozenset({'got', 'free'}), frozenset({'amp', 'arm'}), frozenset({'shots', 'arm'}), frozenset({'one', 'sore'}), frozenset({'really', 'better'}), frozenset({'still', 'feel'}), frozenset({'flu', 'last'}), frozenset({'like', 'mom'}), frozenset({'going', 'getting'}), frozenset({'time', 'know'}), frozenset({'better', 'arm'}), frozenset({'really', 'shots'}), frozenset({'really', 'get'}), frozenset({'like', 'got'}), frozenset({'really', 'right'}), frozenset({'gotten', 'feel'}), frozenset({'mom', 'still'}), frozenset({'day', 'think'}), frozenset({'one', 'lol'}), frozenset({'shot', 'arm'}), frozenset({'got', 'better'}), frozenset({'work', 'today'}), frozenset({'shot', 'first'}), frozenset({'today', 'right'}), frozenset({'flu', 'right'}), frozenset({'even', 'one'}), frozenset({'like', 'right'}), frozenset({'really', 'got'}), frozenset({'like', 'get'}), frozenset({'never', 'hurts'}), frozenset({'vaccine', 'sick'}), frozenset({'better', 'right'}), frozenset({'every', 'better'}), frozenset({'work', 'get'}), frozenset({'time', 'amp'}), frozenset({'every', 'shots'}), frozenset({'first', 'arm'}), frozenset({'day', 'year'}), frozenset({'vaccine', 'even'}), frozenset({'never', 'flu'}), frozenset({'like', 'year'}), frozenset({'really', 'mom'}), frozenset({'first', 'last'}), frozenset({'getting', 'time'}), frozenset({'never', 'last'}), frozenset({'gotten', 'vaccine'}), frozenset({'think', 'sore'}), frozenset({'amp', 'know'}), frozenset({'need', 'hurts'}), frozenset({'first', 'year'}), frozenset({'time', 'feel'}), frozenset({'still', 'even'}), frozenset({'shot', 'even'}), frozenset({'think', 'lol'}), frozenset({'day', 'one'}), frozenset({'hurts', 'today'}), frozenset({'work', 'day'}), frozenset({'time', 'right'}), frozenset({'got', 'arm'}), frozenset({'amp', 'free'}), frozenset({'hurts', 'amp'}), frozenset({'vaccine', 'think'}), frozenset({'work', 'never'}), frozenset({'one', 'arm'}), frozenset({'shots', 'sore'}), frozenset({'first', 'one'}), frozenset({'better', 'sore'}), frozenset({'think', 'sick'}), frozenset({'really', 'arm'}), frozenset({'hurts', 'free'}), frozenset({'better', 'amp'}), frozenset({'still', 'hurts'}), frozenset({'work', 'shot'}), frozenset({'shots', 'lol'}), frozenset({'getting', 'amp'}), frozenset({'every', 'time'}), frozenset({'first', 'even'}), frozenset({'amp', 'year'}), frozenset({'shots', 'amp'}), frozenset({'feel', 'hurts'}), frozenset({'shot', 'think'}), frozenset({'work', 'sick'}), frozenset({'arm', 'year'}), frozenset({'mom', 'time'}), frozenset({'got', 'lol'}), frozenset({'still', 'last'}), frozenset({'feel', 'flu'}), frozenset({'mom', 'shot'}), frozenset({'getting', 'think'}), frozenset({'work', 'vaccine'}), frozenset({'still', 'know'}), frozenset({'vaccine', 'get'}), frozenset({'still', 'arm'}), frozenset({'work', 'even'}), frozenset({'need', 'lol'}), frozenset({'know', 'sore'}), frozenset({'think', 'last'}), frozenset({'shot', 'every'}), frozenset({'get', 'lol'}), frozenset({'today', 'sick'}), frozenset({'time', 'free'}), frozenset({'still', 'time'}), frozenset({'shot', 'day'}), frozenset({'got', 'even'}), frozenset({'really', 'one'}), frozenset({'every', 'hurts'}), frozenset({'shot', 'still'}), frozenset({'gotten', 'better'}), frozenset({'really', 'know'}), frozenset({'gotten', 'shots'}), frozenset({'every', 'flu'}), frozenset({'even', 'shots'}), frozenset({'still', 'sick'}), frozenset({'vaccine', 'day'}), frozenset({'going', 'gotten'}), frozenset({'need', 'still'}), frozenset({'even', 'better'}), frozenset({'every', 'last'}), frozenset({'vaccine', 'never'}), frozenset({'right', 'sick'}), frozenset({'never', 'sick'}), frozenset({'really', 'free'}), frozenset({'every', 'one'}), frozenset({'really', 'hurts'}), frozenset({'getting', 'one'}), frozenset({'shot', 'vaccine'}), frozenset({'gotten', 'think'}), frozenset({'need', 'day'}), frozenset({'work', 'know'}), frozenset({'need', 'mom'}), frozenset({'shot', 'shots'}), frozenset({'gotten', 'hurts'}), frozenset({'arm', 'sick'}), frozenset({'still', 'amp'}), frozenset({'really', 'think'}), frozenset({'vaccine', 'arm'}), frozenset({'free', 'sore'}), frozenset({'one', 'feel'}), frozenset({'like', 'never'}), frozenset({'year', 'flu'}), frozenset({'going', 'today'}), frozenset({'year', 'last'}), frozenset({'got', 'sore'}), frozenset({'got', 'right'}), frozenset({'mom', 'every'}), frozenset({'like', 'first'}), frozenset({'first', 'never'}), frozenset({'need', 'work'}), frozenset({'getting', 'arm'}), frozenset({'gotten', 'even'}), frozenset({'need', 'better'}), frozenset({'going', 'work'}), frozenset({'going', 'better'}), frozenset({'going', 'get'}), frozenset({'need', 'shots'}), frozenset({'every', 'think'}), frozenset({'need', 'like'}), frozenset({'amp', 'sick'}), frozenset({'gotten', 'one'}), frozenset({'work', 'flu'}), frozenset({'even', 'sick'}), frozenset({'year', 'right'}), frozenset({'vaccine', 'one'}), frozenset({'never', 'year'}), frozenset({'one', 'sick'}), frozenset({'gotten', 'amp'}), frozenset({'today', 'know'}), frozenset({'gotten', 'lol'}), frozenset({'feel', 'sick'}), frozenset({'think', 'feel'}), frozenset({'going', 'mom'}), frozenset({'arm', 'know'}), frozenset({'going', 'day'}), frozenset({'getting', 'know'}), frozenset({'shot', 'one'}), frozenset({'first', 'flu'}), frozenset({'shots', 'know'}), frozenset({'never', 'arm'}), frozenset({'hurts', 'sick'}), frozenset({'need', 'sore'}), frozenset({'know', 'lol'}), frozenset({'mom', 'flu'}), frozenset({'got', 'day'}), frozenset({'vaccine', 'hurts'}), frozenset({'need', 'getting'}), frozenset({'first', 'get'}), frozenset({'work', 'arm'}), frozenset({'going', 'shot'}), frozenset({'got', 'never'}), frozenset({'going', 'still'}), frozenset({'getting', 'feel'}), frozenset({'think', 'amp'}), frozenset({'today', 'sore'}), frozenset({'free', 'lol'}), frozenset({'day', 'get'}), frozenset({'know', 'sick'}), frozenset({'first', 'got'}), frozenset({'better', 'free'}), frozenset({'shot', 'flu'}), frozenset({'still', 'flu'}), frozenset({'gotten', 'still'}), frozenset({'never', 'get'}), frozenset({'feel', 'last'}), frozenset({'shot', 'gotten'}), frozenset({'getting', 'right'}), frozenset({'hurts', 'sore'}), frozenset({'going', 'vaccine'}), frozenset({'getting', 'shots'}), frozenset({'need', 'think'}), frozenset({'like', 'gotten'}), frozenset({'gotten', 'day'}), frozenset({'need', 'sick'}), frozenset({'getting', 'lol'}), frozenset({'really', 'amp'}), frozenset({'arm', 'flu'}), frozenset({'every', 'know'}), frozenset({'feel', 'right'}), frozenset({'going', 'lol'}), frozenset({'shots', 'last'}), frozenset({'mom', 'never'}), frozenset({'mom', 'gotten'}), frozenset({'vaccine', 'getting'}), frozenset({'day', 'know'}), frozenset({'like', 'know'}), frozenset({'like', 'feel'}), frozenset({'first', 'free'}), frozenset({'got', 'amp'}), frozenset({'free', 'arm'}), frozenset({'feel', 'shots'}), frozenset({'free', 'last'}), frozenset({'first', 'still'}), frozenset({'better', 'feel'}), frozenset({'time', 'sore'}), frozenset({'gotten', 'get'}), frozenset({'still', 'never'}), frozenset({'going', 'feel'}), frozenset({'think', 'know'}), frozenset({'getting', 'still'}), frozenset({'work', 'amp'}), frozenset({'never', 'sore'}), frozenset({'getting', 'sore'}), frozenset({'feel', 'today'}), frozenset({'every', 'getting'}), frozenset({'work', 'hurts'}), frozenset({'every', 'year'}), frozenset({'never', 'better'}), frozenset({'need', 'one'}), frozenset({'got', 'think'}), frozenset({'time', 'year'}), frozenset({'day', 'better'}), frozenset({'going', 'know'}), frozenset({'getting', 'day'}), frozenset({'mom', 'getting'}), frozenset({'even', 'year'}), frozenset({'first', 'amp'}), frozenset({'like', 'vaccine'}), frozenset({'getting', 'even'}), frozenset({'even', 'flu'}), frozenset({'think', 'get'}), frozenset({'day', 'feel'}), frozenset({'going', 'free'}), frozenset({'even', 'hurts'}), frozenset({'get', 'last'}), frozenset({'every', 'got'}), frozenset({'mom', 'right'}), frozenset({'even', 'free'}), frozenset({'flu', 'sore'}), frozenset({'work', 'time'}), frozenset({'gotten', 'sore'}), frozenset({'one', 'know'}), frozenset({'never', 'right'}), frozenset({'need', 'first'}), frozenset({'getting', 'get'}), frozenset({'work', 'every'}), frozenset({'hurts', 'year'}), frozenset({'shot', 'amp'}), frozenset({'first', 'sick'}), frozenset({'need', 'arm'}), frozenset({'work', 'getting'}), frozenset({'even', 'know'}), frozenset({'still', 'right'}), frozenset({'arm', 'last'}), frozenset({'shots', 'today'}), frozenset({'first', 'time'}), frozenset({'need', 'shot'}), frozenset({'vaccine', 'amp'}), frozenset({'even', 'time'}), frozenset({'shot', 'last'}), frozenset({'got', 'flu'}), frozenset({'hurts', 'arm'}), frozenset({'feel', 'lol'}), frozenset({'really', 'work'}), frozenset({'shot', 'know'}), frozenset({'need', 'flu'}), frozenset({'hurts', 'know'}), frozenset({'gotten', 'sick'}), frozenset({'one', 'amp'}), frozenset({'mom', 'sore'}), frozenset({'vaccine', 'feel'}), frozenset({'get', 'flu'}), frozenset({'day', 'free'}), frozenset({'work', 'shots'}), frozenset({'work', 'year'}), frozenset({'shot', 'time'}), frozenset({'every', 'sore'}), frozenset({'really', 'first'}), frozenset({'work', 'still'}), frozenset({'like', 'shots'}), frozenset({'even', 'arm'}), frozenset({'going', 'like'}), frozenset({'time', 'arm'}), frozenset({'mom', 'year'}), frozenset({'really', 'day'}), frozenset({'gotten', 'arm'}), frozenset({'think', 'right'}), frozenset({'need', 'get'}), frozenset({'shot', 'got'}), frozenset({'first', 'getting'}), frozenset({'going', 'never'}), frozenset({'every', 'vaccine'}), frozenset({'every', 'sick'}), frozenset({'get', 'arm'}), frozenset({'mom', 'get'}), frozenset({'work', 'first'}), frozenset({'like', 'think'}), frozenset({'really', 'shot'}), frozenset({'really', 'still'}), frozenset({'need', 'time'}), frozenset({'still', 'year'}), frozenset({'like', 'hurts'}), frozenset({'like', 'free'}), frozenset({'mom', 'got'}), frozenset({'every', 'right'}), frozenset({'feel', 'know'}), frozenset({'hurts', 'right'}), frozenset({'really', 'vaccine'}), frozenset({'mom', 'even'}), frozenset({'today', 'last'}), frozenset({'free', 'right'}), frozenset({'vaccine', 'last'}), frozenset({'got', 'one'}), frozenset({'like', 'every'}), frozenset({'vaccine', 'today'}), frozenset({'better', 'lol'}), frozenset({'even', 'never'}), frozenset({'gotten', 'first'}), frozenset({'going', 'amp'}), frozenset({'feel', 'free'}), frozenset({'really', 'lol'}), frozenset({'got', 'still'}), frozenset({'like', 'even'}), frozenset({'vaccine', 'year'}), frozenset({'one', 'right'}), frozenset({'one', 'get'}), frozenset({'arm', 'sore'}), frozenset({'one', 'shots'}), frozenset({'year', 'sick'}), frozenset({'one', 'better'}), frozenset({'flu', 'sick'}), frozenset({'free', 'know'}), frozenset({'need', 'gotten'}), frozenset({'even', 'right'}), frozenset({'like', 'one'}), frozenset({'mom', 'hurts'}), frozenset({'even', 'get'}), frozenset({'work', 'gotten'}), frozenset({'need', 'even'}), frozenset({'really', 'feel'}), frozenset({'time', 'flu'}), frozenset({'one', 'think'}), frozenset({'even', 'last'}), frozenset({'mom', 'today'}), frozenset({'like', 'lol'}), frozenset({'day', 'lol'}), frozenset({'gotten', 'flu'}), frozenset({'even', 'today'}), frozenset({'mom', 'last'}), frozenset({'got', 'sick'}), frozenset({'mom', 'arm'}), frozenset({'going', 'time'}), frozenset({'mom', 'better'}), frozenset({'first', 'lol'}), frozenset({'mom', 'shots'}), frozenset({'day', 'last'}), frozenset({'first', 'better'}), frozenset({'really', 'every'}), frozenset({'gotten', 'last'}), frozenset({'every', 'arm'}), frozenset({'get', 'sick'}), frozenset({'think', 'year'}), frozenset({'got', 'time'}), frozenset({'arm', 'right'}), frozenset({'even', 'sore'}), frozenset({'never', 'feel'}), frozenset({'hurts', 'flu'}), frozenset({'still', 'shots'}), frozenset({'shot', 'better'}), frozenset({'mom', 'sick'}), frozenset({'time', 'get'}), frozenset({'like', 'still'}), frozenset({'like', 'shot'}), frozenset({'shots', 'year'}), frozenset({'like', 'day'}), frozenset({'amp', 'lol'}), frozenset({'get', 'sore'}), frozenset({'get', 'right'}), frozenset({'better', 'shots'}), frozenset({'gotten', 'time'}), frozenset({'still', 'free'}), frozenset({'today', 'arm'}), frozenset({'arm', 'lol'}), frozenset({'got', 'hurts'}), frozenset({'going', 'flu'}), frozenset({'never', 'know'}), frozenset({'every', 'even'}), frozenset({'got', 'get'}), frozenset({'today', 'year'}), frozenset({'going', 'year'}), frozenset({'work', 'think'}), frozenset({'gotten', 'know'}), frozenset({'today', 'flu'}), frozenset({'feel', 'amp'}), frozenset({'got', 'shots'}), frozenset({'mom', 'free'}), frozenset({'got', 'year'}), frozenset({'get', 'today'}), frozenset({'day', 'sore'}), frozenset({'time', 'hurts'}), frozenset({'every', 'still'}), frozenset({'better', 'get'}), frozenset({'really', 'need'}), frozenset({'even', 'feel'}), frozenset({'every', 'free'}), frozenset({'shots', 'right'}), frozenset({'shots', 'get'}), frozenset({'getting', 'hurts'}), frozenset({'get', 'year'}), frozenset({'got', 'today'}), frozenset({'work', 'right'}), frozenset({'getting', 'never'}), frozenset({'going', 'first'}), frozenset({'time', 'shots'}), frozenset({'every', 'amp'}), frozenset({'better', 'time'}), frozenset({'vaccine', 'know'}), frozenset({'like', 'getting'}), frozenset({'every', 'today'}), frozenset({'work', 'got'}), frozenset({'really', 'like'}), frozenset({'even', 'lol'}), frozenset({'need', 'free'}), frozenset({'think', 'free'}), frozenset({'free', 'sick'}), frozenset({'time', 'today'}), frozenset({'like', 'today'}), frozenset({'need', 'every'}), frozenset({'really', 'never'}), frozenset({'think', 'shots'}), frozenset({'vaccine', 'free'}), frozenset({'better', 'think'}), frozenset({'time', 'sick'}), frozenset({'today', 'free'}), frozenset({'last', 'sick'}), frozenset({'like', 'sore'}), frozenset({'shot', 'year'}), frozenset({'need', 'know'}), frozenset({'think', 'today'}), frozenset({'sore', 'lol'}), frozenset({'mom', 'one'}), frozenset({'amp', 'sore'}), frozenset({'shots', 'hurts'}), frozenset({'shots', 'free'}), frozenset({'better', 'hurts'}), frozenset({'right', 'sore'}), frozenset({'got', 'feel'}), frozenset({'mom', 'know'}), frozenset({'every', 'never'}), frozenset({'never', 'day'}), frozenset({'vaccine', 'flu'}), frozenset({'still', 'one'}), frozenset({'feel', 'get'}), frozenset({'better', 'last'}), frozenset({'first', 'day'}), frozenset({'lol', 'last'}), frozenset({'even', 'day'}), frozenset({'amp', 'last'}), frozenset({'one', 'year'}), frozenset({'vaccine', 'right'}), frozenset({'gotten', 'got'}), frozenset({'one', 'flu'}), frozenset({'time', 'think'}), frozenset({'feel', 'year'}), frozenset({'like', 'sick'}), frozenset({'sore', 'last'}), frozenset({'right', 'lol'}), frozenset({'vaccine', 'got'}), frozenset({'one', 'today'}), frozenset({'gotten', 'right'}), frozenset({'going', 'sick'}), frozenset({'getting', 'free'}), frozenset({'need', 'vaccine'}), frozenset({'day', 'amp'}), frozenset({'work', 'free'}), frozenset({'going', 'even'}), frozenset({'never', 'lol'}), frozenset({'never', 'amp'}), frozenset({'gotten', 'year'}), frozenset({'shot', 'free'}), frozenset({'like', 'arm'}), frozenset({'day', 'arm'}), frozenset({'really', 'time'}), frozenset({'never', 'today'}), frozenset({'mom', 'amp'}), frozenset({'think', 'hurts'}), frozenset({'shot', 'feel'}), frozenset({'work', 'one'}), frozenset({'going', 'every'}), frozenset({'going', 'sore'}), frozenset({'shot', 'today'}), frozenset({'first', 'right'}), frozenset({'think', 'flu'}), frozenset({'one', 'time'}), frozenset({'getting', 'got'}), frozenset({'feel', 'arm'}), frozenset({'day', 'right'}), frozenset({'gotten', 'free'}), frozenset({'first', 'feel'}), frozenset({'free', 'year'}), frozenset({'really', 'going'}), frozenset({'every', 'gotten'}), frozenset({'shots', 'flu'}), frozenset({'going', 'last'}), frozenset({'first', 'know'}), frozenset({'every', 'day'}), frozenset({'better', 'flu'})}\n"
     ]
    }
   ],
   "source": [
    "#Helper function: How to join canidates \n",
    "def join_sets(freq_itemsets, k):\n",
    "    candidates = set()\n",
    "    freq_itemsets = [set(item) for item in freq_itemsets]  \n",
    "\n",
    "    for set1 in freq_itemsets:\n",
    "        for set2 in freq_itemsets:\n",
    "            if set1 != set2:  \n",
    "                union_set = set1 | set2 \n",
    "                if len(union_set) == k:\n",
    "                    candidates.add(frozenset(union_set))  #\n",
    "\n",
    "    return candidates\n",
    "k = 2\n",
    "k_b = 3\n",
    "test_method_3 = join_sets(freq_itemsets_list, k)\n",
    "test_method_3b = join_sets(test_method_3, k_b)\n",
    "print(test_method_3)\n",
    "#print(test_method_3b)"
   ]
  },
  {
   "cell_type": "code",
   "execution_count": 17,
   "id": "b489a09a-a116-4992-81a2-527f435f9343",
   "metadata": {},
   "outputs": [
    {
     "name": "stdout",
     "output_type": "stream",
     "text": [
      "{frozenset({'shot', 'sick'}), frozenset({'getting', 'last'}), frozenset({'really', 'flu'}), frozenset({'really', 'getting'}), frozenset({'one', 'hurts'}), frozenset({'going', 'shots'}), frozenset({'really', 'year'}), frozenset({'mom', 'day'}), frozenset({'one', 'free'}), frozenset({'going', 'right'}), frozenset({'need', 'year'}), frozenset({'first', 'hurts'}), frozenset({'hurts', 'last'}), frozenset({'lol', 'sick'}), frozenset({'shot', 'never'}), frozenset({'going', 'got'}), frozenset({'like', 'work'}), frozenset({'need', 'today'}), frozenset({'mom', 'think'}), frozenset({'shot', 'getting'}), frozenset({'still', 'day'}), frozenset({'need', 'going'}), frozenset({'work', 'better'}), frozenset({'day', 'flu'}), frozenset({'like', 'flu'}), frozenset({'time', 'lol'}), frozenset({'know', 'last'}), frozenset({'shot', 'hurts'}), frozenset({'like', 'better'}), frozenset({'need', 'got'}), frozenset({'shot', 'get'}), frozenset({'every', 'lol'}), frozenset({'better', 'know'}), frozenset({'vaccine', 'time'}), frozenset({'still', 'think'}), frozenset({'sore', 'sick'}), frozenset({'time', 'last'}), frozenset({'like', 'last'}), frozenset({'need', 'right'}), frozenset({'even', 'amp'}), frozenset({'vaccine', 'sore'}), frozenset({'never', 'one'}), frozenset({'getting', 'sick'}), frozenset({'right', 'last'}), frozenset({'mom', 'work'}), frozenset({'every', 'feel'}), frozenset({'know', 'right'}), frozenset({'hurts', 'lol'}), frozenset({'need', 'last'}), frozenset({'getting', 'better'}), frozenset({'going', 'arm'}), frozenset({'flu', 'lol'}), frozenset({'like', 'time'}), frozenset({'day', 'time'}), frozenset({'amp', 'flu'}), frozenset({'year', 'lol'}), frozenset({'mom', 'first'}), frozenset({'still', 'get'}), frozenset({'gotten', 'never'}), frozenset({'getting', 'today'}), frozenset({'feel', 'sore'}), frozenset({'vaccine', 'shots'}), frozenset({'every', 'first'}), frozenset({'amp', 'today'}), frozenset({'today', 'lol'}), frozenset({'vaccine', 'better'}), frozenset({'shots', 'sick'}), frozenset({'never', 'think'}), frozenset({'first', 'sore'}), frozenset({'better', 'sick'}), frozenset({'need', 'amp'}), frozenset({'work', 'lol'}), frozenset({'amp', 'get'}), frozenset({'day', 'hurts'}), frozenset({'amp', 'right'}), frozenset({'think', 'arm'}), frozenset({'going', 'one'}), frozenset({'first', 'think'}), frozenset({'really', 'sick'}), frozenset({'never', 'free'}), frozenset({'work', 'sore'}), frozenset({'never', 'shots'}), frozenset({'like', 'amp'}), frozenset({'vaccine', 'first'}), frozenset({'day', 'shots'}), frozenset({'shot', 'sore'}), frozenset({'shot', 'right'}), frozenset({'first', 'today'}), frozenset({'gotten', 'getting'}), frozenset({'mom', 'vaccine'}), frozenset({'need', 'feel'}), frozenset({'really', 'even'}), frozenset({'really', 'gotten'}), frozenset({'work', 'feel'}), frozenset({'know', 'year'}), frozenset({'gotten', 'today'}), frozenset({'know', 'flu'}), frozenset({'first', 'shots'}), frozenset({'mom', 'lol'}), frozenset({'day', 'today'}), frozenset({'going', 'hurts'}), frozenset({'need', 'never'}), frozenset({'still', 'today'}), frozenset({'really', 'sore'}), frozenset({'work', 'last'}), frozenset({'vaccine', 'still'}), frozenset({'get', 'know'}), frozenset({'day', 'sick'}), frozenset({'even', 'think'}), frozenset({'one', 'last'}), frozenset({'free', 'flu'}), frozenset({'still', 'better'}), frozenset({'got', 'last'}), frozenset({'shot', 'lol'}), frozenset({'every', 'get'}), frozenset({'year', 'sore'}), frozenset({'still', 'lol'}), frozenset({'going', 'think'}), frozenset({'got', 'know'}), frozenset({'mom', 'feel'}), frozenset({'get', 'free'}), frozenset({'better', 'year'}), frozenset({'getting', 'year'}), frozenset({'hurts', 'get'}), frozenset({'never', 'time'}), frozenset({'really', 'today'}), frozenset({'still', 'sore'}), frozenset({'getting', 'flu'}), frozenset({'really', 'last'}), frozenset({'better', 'today'}), frozenset({'vaccine', 'lol'}), frozenset({'got', 'free'}), frozenset({'amp', 'arm'}), frozenset({'shots', 'arm'}), frozenset({'one', 'sore'}), frozenset({'really', 'better'}), frozenset({'still', 'feel'}), frozenset({'flu', 'last'}), frozenset({'like', 'mom'}), frozenset({'going', 'getting'}), frozenset({'time', 'know'}), frozenset({'better', 'arm'}), frozenset({'really', 'shots'}), frozenset({'really', 'get'}), frozenset({'like', 'got'}), frozenset({'really', 'right'}), frozenset({'gotten', 'feel'}), frozenset({'mom', 'still'}), frozenset({'day', 'think'}), frozenset({'one', 'lol'}), frozenset({'shot', 'arm'}), frozenset({'got', 'better'}), frozenset({'work', 'today'}), frozenset({'shot', 'first'}), frozenset({'today', 'right'}), frozenset({'flu', 'right'}), frozenset({'even', 'one'}), frozenset({'like', 'right'}), frozenset({'really', 'got'}), frozenset({'like', 'get'}), frozenset({'never', 'hurts'}), frozenset({'vaccine', 'sick'}), frozenset({'better', 'right'}), frozenset({'every', 'better'}), frozenset({'work', 'get'}), frozenset({'time', 'amp'}), frozenset({'every', 'shots'}), frozenset({'first', 'arm'}), frozenset({'day', 'year'}), frozenset({'vaccine', 'even'}), frozenset({'never', 'flu'}), frozenset({'like', 'year'}), frozenset({'really', 'mom'}), frozenset({'first', 'last'}), frozenset({'getting', 'time'}), frozenset({'never', 'last'}), frozenset({'gotten', 'vaccine'}), frozenset({'think', 'sore'}), frozenset({'amp', 'know'}), frozenset({'need', 'hurts'}), frozenset({'first', 'year'}), frozenset({'time', 'feel'}), frozenset({'still', 'even'}), frozenset({'shot', 'even'}), frozenset({'think', 'lol'}), frozenset({'day', 'one'}), frozenset({'hurts', 'today'}), frozenset({'work', 'day'}), frozenset({'time', 'right'}), frozenset({'got', 'arm'}), frozenset({'amp', 'free'}), frozenset({'hurts', 'amp'}), frozenset({'vaccine', 'think'}), frozenset({'work', 'never'}), frozenset({'one', 'arm'}), frozenset({'shots', 'sore'}), frozenset({'first', 'one'}), frozenset({'better', 'sore'}), frozenset({'think', 'sick'}), frozenset({'really', 'arm'}), frozenset({'hurts', 'free'}), frozenset({'better', 'amp'}), frozenset({'still', 'hurts'}), frozenset({'work', 'shot'}), frozenset({'shots', 'lol'}), frozenset({'getting', 'amp'}), frozenset({'every', 'time'}), frozenset({'first', 'even'}), frozenset({'amp', 'year'}), frozenset({'shots', 'amp'}), frozenset({'feel', 'hurts'}), frozenset({'shot', 'think'}), frozenset({'work', 'sick'}), frozenset({'arm', 'year'}), frozenset({'mom', 'time'}), frozenset({'got', 'lol'}), frozenset({'still', 'last'}), frozenset({'feel', 'flu'}), frozenset({'mom', 'shot'}), frozenset({'getting', 'think'}), frozenset({'work', 'vaccine'}), frozenset({'still', 'know'}), frozenset({'vaccine', 'get'}), frozenset({'still', 'arm'}), frozenset({'work', 'even'}), frozenset({'need', 'lol'}), frozenset({'know', 'sore'}), frozenset({'think', 'last'}), frozenset({'shot', 'every'}), frozenset({'get', 'lol'}), frozenset({'today', 'sick'}), frozenset({'time', 'free'}), frozenset({'still', 'time'}), frozenset({'shot', 'day'}), frozenset({'got', 'even'}), frozenset({'really', 'one'}), frozenset({'every', 'hurts'}), frozenset({'shot', 'still'}), frozenset({'gotten', 'better'}), frozenset({'really', 'know'}), frozenset({'gotten', 'shots'}), frozenset({'every', 'flu'}), frozenset({'even', 'shots'}), frozenset({'still', 'sick'}), frozenset({'vaccine', 'day'}), frozenset({'going', 'gotten'}), frozenset({'need', 'still'}), frozenset({'even', 'better'}), frozenset({'every', 'last'}), frozenset({'vaccine', 'never'}), frozenset({'right', 'sick'}), frozenset({'never', 'sick'}), frozenset({'really', 'free'}), frozenset({'every', 'one'}), frozenset({'really', 'hurts'}), frozenset({'getting', 'one'}), frozenset({'shot', 'vaccine'}), frozenset({'gotten', 'think'}), frozenset({'need', 'day'}), frozenset({'work', 'know'}), frozenset({'need', 'mom'}), frozenset({'shot', 'shots'}), frozenset({'gotten', 'hurts'}), frozenset({'arm', 'sick'}), frozenset({'still', 'amp'}), frozenset({'really', 'think'}), frozenset({'vaccine', 'arm'}), frozenset({'free', 'sore'}), frozenset({'one', 'feel'}), frozenset({'like', 'never'}), frozenset({'year', 'flu'}), frozenset({'going', 'today'}), frozenset({'year', 'last'}), frozenset({'got', 'sore'}), frozenset({'got', 'right'}), frozenset({'mom', 'every'}), frozenset({'like', 'first'}), frozenset({'first', 'never'}), frozenset({'need', 'work'}), frozenset({'getting', 'arm'}), frozenset({'gotten', 'even'}), frozenset({'need', 'better'}), frozenset({'going', 'work'}), frozenset({'going', 'better'}), frozenset({'going', 'get'}), frozenset({'need', 'shots'}), frozenset({'every', 'think'}), frozenset({'need', 'like'}), frozenset({'amp', 'sick'}), frozenset({'gotten', 'one'}), frozenset({'work', 'flu'}), frozenset({'even', 'sick'}), frozenset({'year', 'right'}), frozenset({'vaccine', 'one'}), frozenset({'never', 'year'}), frozenset({'one', 'sick'}), frozenset({'gotten', 'amp'}), frozenset({'today', 'know'}), frozenset({'gotten', 'lol'}), frozenset({'feel', 'sick'}), frozenset({'think', 'feel'}), frozenset({'going', 'mom'}), frozenset({'arm', 'know'}), frozenset({'going', 'day'}), frozenset({'getting', 'know'}), frozenset({'shot', 'one'}), frozenset({'first', 'flu'}), frozenset({'shots', 'know'}), frozenset({'never', 'arm'}), frozenset({'hurts', 'sick'}), frozenset({'need', 'sore'}), frozenset({'know', 'lol'}), frozenset({'mom', 'flu'}), frozenset({'got', 'day'}), frozenset({'vaccine', 'hurts'}), frozenset({'need', 'getting'}), frozenset({'first', 'get'}), frozenset({'work', 'arm'}), frozenset({'going', 'shot'}), frozenset({'got', 'never'}), frozenset({'going', 'still'}), frozenset({'getting', 'feel'}), frozenset({'think', 'amp'}), frozenset({'today', 'sore'}), frozenset({'free', 'lol'}), frozenset({'day', 'get'}), frozenset({'know', 'sick'}), frozenset({'first', 'got'}), frozenset({'better', 'free'}), frozenset({'shot', 'flu'}), frozenset({'still', 'flu'}), frozenset({'gotten', 'still'}), frozenset({'never', 'get'}), frozenset({'feel', 'last'}), frozenset({'shot', 'gotten'}), frozenset({'getting', 'right'}), frozenset({'hurts', 'sore'}), frozenset({'going', 'vaccine'}), frozenset({'getting', 'shots'}), frozenset({'need', 'think'}), frozenset({'like', 'gotten'}), frozenset({'gotten', 'day'}), frozenset({'need', 'sick'}), frozenset({'getting', 'lol'}), frozenset({'really', 'amp'}), frozenset({'arm', 'flu'}), frozenset({'every', 'know'}), frozenset({'feel', 'right'}), frozenset({'going', 'lol'}), frozenset({'shots', 'last'}), frozenset({'mom', 'never'}), frozenset({'mom', 'gotten'}), frozenset({'vaccine', 'getting'}), frozenset({'day', 'know'}), frozenset({'like', 'know'}), frozenset({'like', 'feel'}), frozenset({'first', 'free'}), frozenset({'got', 'amp'}), frozenset({'free', 'arm'}), frozenset({'feel', 'shots'}), frozenset({'free', 'last'}), frozenset({'first', 'still'}), frozenset({'better', 'feel'}), frozenset({'time', 'sore'}), frozenset({'gotten', 'get'}), frozenset({'still', 'never'}), frozenset({'going', 'feel'}), frozenset({'think', 'know'}), frozenset({'getting', 'still'}), frozenset({'work', 'amp'}), frozenset({'never', 'sore'}), frozenset({'getting', 'sore'}), frozenset({'feel', 'today'}), frozenset({'every', 'getting'}), frozenset({'work', 'hurts'}), frozenset({'every', 'year'}), frozenset({'never', 'better'}), frozenset({'need', 'one'}), frozenset({'got', 'think'}), frozenset({'time', 'year'}), frozenset({'day', 'better'}), frozenset({'going', 'know'}), frozenset({'getting', 'day'}), frozenset({'mom', 'getting'}), frozenset({'even', 'year'}), frozenset({'first', 'amp'}), frozenset({'like', 'vaccine'}), frozenset({'getting', 'even'}), frozenset({'even', 'flu'}), frozenset({'think', 'get'}), frozenset({'day', 'feel'}), frozenset({'going', 'free'}), frozenset({'even', 'hurts'}), frozenset({'get', 'last'}), frozenset({'every', 'got'}), frozenset({'mom', 'right'}), frozenset({'even', 'free'}), frozenset({'flu', 'sore'}), frozenset({'work', 'time'}), frozenset({'gotten', 'sore'}), frozenset({'one', 'know'}), frozenset({'never', 'right'}), frozenset({'need', 'first'}), frozenset({'getting', 'get'}), frozenset({'work', 'every'}), frozenset({'hurts', 'year'}), frozenset({'shot', 'amp'}), frozenset({'first', 'sick'}), frozenset({'need', 'arm'}), frozenset({'work', 'getting'}), frozenset({'even', 'know'}), frozenset({'still', 'right'}), frozenset({'arm', 'last'}), frozenset({'shots', 'today'}), frozenset({'first', 'time'}), frozenset({'need', 'shot'}), frozenset({'vaccine', 'amp'}), frozenset({'even', 'time'}), frozenset({'shot', 'last'}), frozenset({'got', 'flu'}), frozenset({'hurts', 'arm'}), frozenset({'feel', 'lol'}), frozenset({'really', 'work'}), frozenset({'shot', 'know'}), frozenset({'need', 'flu'}), frozenset({'hurts', 'know'}), frozenset({'gotten', 'sick'}), frozenset({'one', 'amp'}), frozenset({'mom', 'sore'}), frozenset({'vaccine', 'feel'}), frozenset({'get', 'flu'}), frozenset({'day', 'free'}), frozenset({'work', 'shots'}), frozenset({'work', 'year'}), frozenset({'shot', 'time'}), frozenset({'every', 'sore'}), frozenset({'really', 'first'}), frozenset({'work', 'still'}), frozenset({'like', 'shots'}), frozenset({'even', 'arm'}), frozenset({'going', 'like'}), frozenset({'time', 'arm'}), frozenset({'mom', 'year'}), frozenset({'really', 'day'}), frozenset({'gotten', 'arm'}), frozenset({'think', 'right'}), frozenset({'need', 'get'}), frozenset({'shot', 'got'}), frozenset({'first', 'getting'}), frozenset({'going', 'never'}), frozenset({'every', 'vaccine'}), frozenset({'every', 'sick'}), frozenset({'get', 'arm'}), frozenset({'mom', 'get'}), frozenset({'work', 'first'}), frozenset({'like', 'think'}), frozenset({'really', 'shot'}), frozenset({'really', 'still'}), frozenset({'need', 'time'}), frozenset({'still', 'year'}), frozenset({'like', 'hurts'}), frozenset({'like', 'free'}), frozenset({'mom', 'got'}), frozenset({'every', 'right'}), frozenset({'feel', 'know'}), frozenset({'hurts', 'right'}), frozenset({'really', 'vaccine'}), frozenset({'mom', 'even'}), frozenset({'today', 'last'}), frozenset({'free', 'right'}), frozenset({'vaccine', 'last'}), frozenset({'got', 'one'}), frozenset({'like', 'every'}), frozenset({'vaccine', 'today'}), frozenset({'better', 'lol'}), frozenset({'even', 'never'}), frozenset({'gotten', 'first'}), frozenset({'going', 'amp'}), frozenset({'feel', 'free'}), frozenset({'really', 'lol'}), frozenset({'got', 'still'}), frozenset({'like', 'even'}), frozenset({'vaccine', 'year'}), frozenset({'one', 'right'}), frozenset({'one', 'get'}), frozenset({'arm', 'sore'}), frozenset({'one', 'shots'}), frozenset({'year', 'sick'}), frozenset({'one', 'better'}), frozenset({'flu', 'sick'}), frozenset({'free', 'know'}), frozenset({'need', 'gotten'}), frozenset({'even', 'right'}), frozenset({'like', 'one'}), frozenset({'mom', 'hurts'}), frozenset({'even', 'get'}), frozenset({'work', 'gotten'}), frozenset({'need', 'even'}), frozenset({'really', 'feel'}), frozenset({'time', 'flu'}), frozenset({'one', 'think'}), frozenset({'even', 'last'}), frozenset({'mom', 'today'}), frozenset({'like', 'lol'}), frozenset({'day', 'lol'}), frozenset({'gotten', 'flu'}), frozenset({'even', 'today'}), frozenset({'mom', 'last'}), frozenset({'got', 'sick'}), frozenset({'mom', 'arm'}), frozenset({'going', 'time'}), frozenset({'mom', 'better'}), frozenset({'first', 'lol'}), frozenset({'mom', 'shots'}), frozenset({'day', 'last'}), frozenset({'first', 'better'}), frozenset({'really', 'every'}), frozenset({'gotten', 'last'}), frozenset({'every', 'arm'}), frozenset({'get', 'sick'}), frozenset({'think', 'year'}), frozenset({'got', 'time'}), frozenset({'arm', 'right'}), frozenset({'even', 'sore'}), frozenset({'never', 'feel'}), frozenset({'hurts', 'flu'}), frozenset({'still', 'shots'}), frozenset({'shot', 'better'}), frozenset({'mom', 'sick'}), frozenset({'time', 'get'}), frozenset({'like', 'still'}), frozenset({'like', 'shot'}), frozenset({'shots', 'year'}), frozenset({'like', 'day'}), frozenset({'amp', 'lol'}), frozenset({'get', 'sore'}), frozenset({'get', 'right'}), frozenset({'better', 'shots'}), frozenset({'gotten', 'time'}), frozenset({'still', 'free'}), frozenset({'today', 'arm'}), frozenset({'arm', 'lol'}), frozenset({'got', 'hurts'}), frozenset({'going', 'flu'}), frozenset({'never', 'know'}), frozenset({'every', 'even'}), frozenset({'got', 'get'}), frozenset({'today', 'year'}), frozenset({'going', 'year'}), frozenset({'work', 'think'}), frozenset({'gotten', 'know'}), frozenset({'today', 'flu'}), frozenset({'feel', 'amp'}), frozenset({'got', 'shots'}), frozenset({'mom', 'free'}), frozenset({'got', 'year'}), frozenset({'get', 'today'}), frozenset({'day', 'sore'}), frozenset({'time', 'hurts'}), frozenset({'every', 'still'}), frozenset({'better', 'get'}), frozenset({'really', 'need'}), frozenset({'even', 'feel'}), frozenset({'every', 'free'}), frozenset({'shots', 'right'}), frozenset({'shots', 'get'}), frozenset({'getting', 'hurts'}), frozenset({'get', 'year'}), frozenset({'got', 'today'}), frozenset({'work', 'right'}), frozenset({'getting', 'never'}), frozenset({'going', 'first'}), frozenset({'time', 'shots'}), frozenset({'every', 'amp'}), frozenset({'better', 'time'}), frozenset({'vaccine', 'know'}), frozenset({'like', 'getting'}), frozenset({'every', 'today'}), frozenset({'work', 'got'}), frozenset({'really', 'like'}), frozenset({'even', 'lol'}), frozenset({'need', 'free'}), frozenset({'think', 'free'}), frozenset({'free', 'sick'}), frozenset({'time', 'today'}), frozenset({'like', 'today'}), frozenset({'need', 'every'}), frozenset({'really', 'never'}), frozenset({'think', 'shots'}), frozenset({'vaccine', 'free'}), frozenset({'better', 'think'}), frozenset({'time', 'sick'}), frozenset({'today', 'free'}), frozenset({'last', 'sick'}), frozenset({'like', 'sore'}), frozenset({'shot', 'year'}), frozenset({'need', 'know'}), frozenset({'think', 'today'}), frozenset({'sore', 'lol'}), frozenset({'mom', 'one'}), frozenset({'amp', 'sore'}), frozenset({'shots', 'hurts'}), frozenset({'shots', 'free'}), frozenset({'better', 'hurts'}), frozenset({'right', 'sore'}), frozenset({'got', 'feel'}), frozenset({'mom', 'know'}), frozenset({'every', 'never'}), frozenset({'never', 'day'}), frozenset({'vaccine', 'flu'}), frozenset({'still', 'one'}), frozenset({'feel', 'get'}), frozenset({'better', 'last'}), frozenset({'first', 'day'}), frozenset({'lol', 'last'}), frozenset({'even', 'day'}), frozenset({'amp', 'last'}), frozenset({'one', 'year'}), frozenset({'vaccine', 'right'}), frozenset({'gotten', 'got'}), frozenset({'one', 'flu'}), frozenset({'time', 'think'}), frozenset({'feel', 'year'}), frozenset({'like', 'sick'}), frozenset({'sore', 'last'}), frozenset({'right', 'lol'}), frozenset({'vaccine', 'got'}), frozenset({'one', 'today'}), frozenset({'gotten', 'right'}), frozenset({'going', 'sick'}), frozenset({'getting', 'free'}), frozenset({'need', 'vaccine'}), frozenset({'day', 'amp'}), frozenset({'work', 'free'}), frozenset({'going', 'even'}), frozenset({'never', 'lol'}), frozenset({'never', 'amp'}), frozenset({'gotten', 'year'}), frozenset({'shot', 'free'}), frozenset({'like', 'arm'}), frozenset({'day', 'arm'}), frozenset({'really', 'time'}), frozenset({'never', 'today'}), frozenset({'mom', 'amp'}), frozenset({'think', 'hurts'}), frozenset({'shot', 'feel'}), frozenset({'work', 'one'}), frozenset({'going', 'every'}), frozenset({'going', 'sore'}), frozenset({'shot', 'today'}), frozenset({'first', 'right'}), frozenset({'think', 'flu'}), frozenset({'one', 'time'}), frozenset({'getting', 'got'}), frozenset({'feel', 'arm'}), frozenset({'day', 'right'}), frozenset({'gotten', 'free'}), frozenset({'first', 'feel'}), frozenset({'free', 'year'}), frozenset({'really', 'going'}), frozenset({'every', 'gotten'}), frozenset({'shots', 'flu'}), frozenset({'going', 'last'}), frozenset({'first', 'know'}), frozenset({'every', 'day'}), frozenset({'better', 'flu'})}\n"
     ]
    },
    {
     "data": {
      "text/plain": [
       "'\\n#I made a mini example below to make sure that my code was actually working due to me getting weird results previously with the actual dataset\\n\\nprev_freq_itemsetsb = {\\n    frozenset([\"milk\", \"bread\"]),\\n    frozenset([\"milk\", \"butter\"]),\\n    frozenset([\"bread\", \"butter\"])\\n}\\ncandidatesb = {\\n    frozenset([\"milk\", \"bread\", \"butter\"]),\\n    frozenset([\"milk\", \"bread\", \"jam\"]),  # Should be pruned! (\"milk\", \"jam\") is missing\\n}\\n\\npruned_candidatesb = prune_candidates(candidatesb, prev_freq_itemsetsb, k)\\nprint(pruned_candidatesb)'"
      ]
     },
     "execution_count": 17,
     "metadata": {},
     "output_type": "execute_result"
    }
   ],
   "source": [
    "#Helper function : pruning \n",
    "def prune_candidates(candidates, prev_freq_itemsets, k):\n",
    "    pruned = set()    \n",
    "    for cand in candidates:\n",
    "        subsets = list(combinations(cand, k-1))  \n",
    "        \n",
    "        all_subsets_frequent = all(frozenset(subset) in prev_freq_itemsets for subset in subsets)\n",
    "        \n",
    "        if all_subsets_frequent:\n",
    "            pruned.add(cand)\n",
    "    return pruned\n",
    "k = 2\n",
    "test_method_4 = prune_candidates(test_method_3, freq_itemsets_list , k)\n",
    "print(test_method_4)\n",
    "'''\n",
    "#I made a mini example below to make sure that my code was actually working due to me getting weird results previously with the actual dataset\n",
    "\n",
    "prev_freq_itemsetsb = {\n",
    "    frozenset([\"milk\", \"bread\"]),\n",
    "    frozenset([\"milk\", \"butter\"]),\n",
    "    frozenset([\"bread\", \"butter\"])\n",
    "}\n",
    "candidatesb = {\n",
    "    frozenset([\"milk\", \"bread\", \"butter\"]),\n",
    "    frozenset([\"milk\", \"bread\", \"jam\"]),  # Should be pruned! (\"milk\", \"jam\") is missing\n",
    "}\n",
    "\n",
    "pruned_candidatesb = prune_candidates(candidatesb, prev_freq_itemsetsb, k)\n",
    "print(pruned_candidatesb)'''"
   ]
  },
  {
   "cell_type": "code",
   "execution_count": 19,
   "id": "7c84823b-c916-4366-8bd0-cbb3ed11888a",
   "metadata": {},
   "outputs": [
    {
     "name": "stdout",
     "output_type": "stream",
     "text": [
      "{frozenset({'shot', 'still'}): 886, frozenset({'shot', 'flu'}): 23150, frozenset({'still', 'flu'}): 989, frozenset({'got', 'flu'}): 7388, frozenset({'shot', 'got'}): 6963, frozenset({'shot', 'sick'}): 1685, frozenset({'need', 'shot'}): 739, frozenset({'need', 'flu'}): 814, frozenset({'flu', 'sick'}): 1841, frozenset({'shot', 'getting'}): 2764, frozenset({'getting', 'flu'}): 3086, frozenset({'shot', 'even'}): 542, frozenset({'even', 'flu'}): 610, frozenset({'shot', 'get'}): 6959, frozenset({'flu', 'last'}): 663, frozenset({'going', 'shot'}): 688, frozenset({'shot', 'last'}): 599, frozenset({'get', 'flu'}): 7642, frozenset({'shot', 'time'}): 1253, frozenset({'time', 'flu'}): 1403, frozenset({'going', 'flu'}): 770, frozenset({'every', 'flu'}): 567, frozenset({'amp', 'flu'}): 959, frozenset({'shot', 'amp'}): 773, frozenset({'year', 'flu'}): 1530, frozenset({'get', 'year'}): 697, frozenset({'shot', 'year'}): 1402, frozenset({'shot', 'first'}): 592, frozenset({'shot', 'think'}): 564, frozenset({'first', 'flu'}): 632, frozenset({'think', 'flu'}): 649, frozenset({'today', 'flu'}): 2726, frozenset({'got', 'today'}): 1265, frozenset({'shot', 'today'}): 2365, frozenset({'know', 'flu'}): 523, frozenset({'flu', 'right'}): 541, frozenset({'shot', 'gotten'}): 665, frozenset({'gotten', 'flu'}): 694, frozenset({'like', 'flu'}): 1940, frozenset({'like', 'got'}): 664, frozenset({'shot', 'arm'}): 1900, frozenset({'got', 'arm'}): 789, frozenset({'arm', 'flu'}): 2022, frozenset({'got', 'sick'}): 680, frozenset({'get', 'sick'}): 818, frozenset({'like', 'shot'}): 1692, frozenset({'got', 'get'}): 892, frozenset({'get', 'today'}): 656, frozenset({'hurts', 'flu'}): 530, frozenset({'shots', 'flu'}): 2573, frozenset({'mom', 'shot'}): 516, frozenset({'mom', 'flu'}): 552, frozenset({'shot', 'never'}): 833, frozenset({'never', 'flu'}): 917, frozenset({'vaccine', 'flu'}): 518, frozenset({'shots', 'get'}): 649, frozenset({'work', 'shot'}): 799, frozenset({'work', 'flu'}): 968, frozenset({'shot', 'better'}): 509, frozenset({'better', 'flu'}): 593, frozenset({'really', 'flu'}): 579, frozenset({'really', 'shot'}): 521, frozenset({'shot', 'one'}): 801, frozenset({'one', 'flu'}): 915, frozenset({'flu', 'lol'}): 503, frozenset({'feel', 'flu'}): 1018, frozenset({'shot', 'feel'}): 918, frozenset({'shot', 'sore'}): 636, frozenset({'flu', 'sore'}): 675, frozenset({'arm', 'sore'}): 534, frozenset({'free', 'flu'}): 1013, frozenset({'day', 'flu'}): 759, frozenset({'shot', 'day'}): 667, frozenset({'shot', 'free'}): 624}\n"
     ]
    }
   ],
   "source": [
    "#Helper Function: \n",
    "def count_candidates(candidates, transactions, min_support):\n",
    "    counts = {}\n",
    "    for trans in transactions:\n",
    "        for cand in candidates:\n",
    "            if cand.issubset(trans):\n",
    "                counts[cand] = counts.get(cand, 0) + 1\n",
    "\n",
    "    freq_sets = {}\n",
    "    for itemset, cnt in counts.items():\n",
    "        if cnt >= min_support:\n",
    "            freq_sets[itemset] = cnt\n",
    "    return freq_sets\n",
    "\n",
    "test_method_5 = count_candidates(test_method_4, transactions, min_support_test)\n",
    "print(test_method_5)"
   ]
  },
  {
   "cell_type": "code",
   "execution_count": 21,
   "id": "2d95bf7d-f119-4978-8d1c-43df62af2c6d",
   "metadata": {},
   "outputs": [
    {
     "name": "stdout",
     "output_type": "stream",
     "text": [
      "{frozenset({'shot'}): 23167, frozenset({'got'}): 7396, frozenset({'still'}): 990, frozenset({'flu'}): 26186, frozenset({'need'}): 814, frozenset({'sick'}): 1842, frozenset({'even'}): 611, frozenset({'getting'}): 3087, frozenset({'going'}): 770, frozenset({'get'}): 7647, frozenset({'last'}): 664, frozenset({'time'}): 1404, frozenset({'every'}): 569, frozenset({'amp'}): 959, frozenset({'year'}): 1534, frozenset({'first'}): 633, frozenset({'think'}): 649, frozenset({'today'}): 2729, frozenset({'know'}): 523, frozenset({'right'}): 541, frozenset({'gotten'}): 695, frozenset({'like'}): 1940, frozenset({'arm'}): 2023, frozenset({'hurts'}): 530, frozenset({'shots'}): 2573, frozenset({'mom'}): 552, frozenset({'never'}): 917, frozenset({'vaccine'}): 519, frozenset({'work'}): 968, frozenset({'better'}): 593, frozenset({'really'}): 580, frozenset({'one'}): 915, frozenset({'lol'}): 503, frozenset({'feel'}): 1018, frozenset({'sore'}): 675, frozenset({'free'}): 1013, frozenset({'day'}): 759, frozenset({'shot', 'still'}): 886, frozenset({'shot', 'flu'}): 23150, frozenset({'still', 'flu'}): 989, frozenset({'got', 'flu'}): 7388, frozenset({'shot', 'got'}): 6963, frozenset({'shot', 'sick'}): 1685, frozenset({'need', 'shot'}): 739, frozenset({'need', 'flu'}): 814, frozenset({'flu', 'sick'}): 1841, frozenset({'shot', 'getting'}): 2764, frozenset({'getting', 'flu'}): 3086, frozenset({'shot', 'even'}): 542, frozenset({'even', 'flu'}): 610, frozenset({'shot', 'get'}): 6959, frozenset({'flu', 'last'}): 663, frozenset({'going', 'shot'}): 688, frozenset({'shot', 'last'}): 599, frozenset({'get', 'flu'}): 7642, frozenset({'shot', 'time'}): 1253, frozenset({'time', 'flu'}): 1403, frozenset({'going', 'flu'}): 770, frozenset({'every', 'flu'}): 567, frozenset({'amp', 'flu'}): 959, frozenset({'shot', 'amp'}): 773, frozenset({'year', 'flu'}): 1530, frozenset({'get', 'year'}): 697, frozenset({'shot', 'year'}): 1402, frozenset({'shot', 'first'}): 592, frozenset({'shot', 'think'}): 564, frozenset({'first', 'flu'}): 632, frozenset({'think', 'flu'}): 649, frozenset({'today', 'flu'}): 2726, frozenset({'got', 'today'}): 1265, frozenset({'shot', 'today'}): 2365, frozenset({'know', 'flu'}): 523, frozenset({'flu', 'right'}): 541, frozenset({'shot', 'gotten'}): 665, frozenset({'gotten', 'flu'}): 694, frozenset({'like', 'flu'}): 1940, frozenset({'like', 'got'}): 664, frozenset({'shot', 'arm'}): 1900, frozenset({'got', 'arm'}): 789, frozenset({'arm', 'flu'}): 2022, frozenset({'got', 'sick'}): 680, frozenset({'get', 'sick'}): 818, frozenset({'like', 'shot'}): 1692, frozenset({'got', 'get'}): 892, frozenset({'get', 'today'}): 656, frozenset({'hurts', 'flu'}): 530, frozenset({'shots', 'flu'}): 2573, frozenset({'mom', 'shot'}): 516, frozenset({'mom', 'flu'}): 552, frozenset({'shot', 'never'}): 833, frozenset({'never', 'flu'}): 917, frozenset({'vaccine', 'flu'}): 518, frozenset({'shots', 'get'}): 649, frozenset({'work', 'shot'}): 799, frozenset({'work', 'flu'}): 968, frozenset({'shot', 'better'}): 509, frozenset({'better', 'flu'}): 593, frozenset({'really', 'flu'}): 579, frozenset({'really', 'shot'}): 521, frozenset({'shot', 'one'}): 801, frozenset({'one', 'flu'}): 915, frozenset({'flu', 'lol'}): 503, frozenset({'feel', 'flu'}): 1018, frozenset({'shot', 'feel'}): 918, frozenset({'shot', 'sore'}): 636, frozenset({'flu', 'sore'}): 675, frozenset({'arm', 'sore'}): 534, frozenset({'free', 'flu'}): 1013, frozenset({'day', 'flu'}): 759, frozenset({'shot', 'day'}): 667, frozenset({'shot', 'free'}): 624, frozenset({'shot', 'got', 'flu'}): 6956, frozenset({'shot', 'still', 'flu'}): 886, frozenset({'need', 'shot', 'flu'}): 739, frozenset({'shot', 'flu', 'sick'}): 1684, frozenset({'shot', 'getting', 'flu'}): 2763, frozenset({'shot', 'even', 'flu'}): 541, frozenset({'shot', 'get', 'flu'}): 6955, frozenset({'shot', 'flu', 'last'}): 598, frozenset({'shot', 'time', 'flu'}): 1252, frozenset({'going', 'shot', 'flu'}): 688, frozenset({'shot', 'amp', 'flu'}): 773, frozenset({'shot', 'get', 'year'}): 638, frozenset({'year', 'get', 'flu'}): 696, frozenset({'year', 'shot', 'flu'}): 1398, frozenset({'shot', 'think', 'flu'}): 564, frozenset({'shot', 'first', 'flu'}): 591, frozenset({'shot', 'got', 'today'}): 1196, frozenset({'got', 'today', 'flu'}): 1264, frozenset({'shot', 'today', 'flu'}): 2362, frozenset({'shot', 'gotten', 'flu'}): 664, frozenset({'shot', 'got', 'arm'}): 764, frozenset({'like', 'shot', 'got'}): 615, frozenset({'got', 'get', 'flu'}): 890, frozenset({'arm', 'got', 'flu'}): 789, frozenset({'shot', 'get', 'today'}): 584, frozenset({'shot', 'arm', 'flu'}): 1900, frozenset({'get', 'flu', 'today'}): 655, frozenset({'shot', 'get', 'sick'}): 750, frozenset({'get', 'flu', 'sick'}): 818, frozenset({'shot', 'got', 'get'}): 839, frozenset({'like', 'got', 'flu'}): 664, frozenset({'shot', 'got', 'sick'}): 647, frozenset({'like', 'shot', 'flu'}): 1692, frozenset({'got', 'flu', 'sick'}): 680, frozenset({'mom', 'shot', 'flu'}): 516, frozenset({'shot', 'never', 'flu'}): 833, frozenset({'shots', 'get', 'flu'}): 649, frozenset({'work', 'shot', 'flu'}): 799, frozenset({'shot', 'better', 'flu'}): 509, frozenset({'really', 'shot', 'flu'}): 520, frozenset({'shot', 'one', 'flu'}): 801, frozenset({'shot', 'feel', 'flu'}): 918, frozenset({'shot', 'flu', 'sore'}): 636, frozenset({'arm', 'flu', 'sore'}): 534, frozenset({'shot', 'arm', 'sore'}): 508, frozenset({'shot', 'day', 'flu'}): 667, frozenset({'shot', 'free', 'flu'}): 624, frozenset({'shot', 'flu', 'get', 'year'}): 637, frozenset({'shot', 'got', 'today', 'flu'}): 1195, frozenset({'shot', 'flu', 'today', 'get'}): 583, frozenset({'shot', 'got', 'get', 'flu'}): 838, frozenset({'like', 'shot', 'got', 'flu'}): 615, frozenset({'flu', 'shot', 'got', 'arm'}): 764, frozenset({'shot', 'got', 'flu', 'sick'}): 647, frozenset({'shot', 'get', 'flu', 'sick'}): 750, frozenset({'shot', 'arm', 'flu', 'sore'}): 508}\n"
     ]
    }
   ],
   "source": [
    "#Main Apriori function\n",
    "def apriori(transactions, min_support):\n",
    "    item_counts = get_item_counts(transactions)\n",
    "    freq_1 = filter_items_by_support(item_counts, min_support)\n",
    "    freq_sets = []\n",
    "    current_freq_itemsets = [set([item]) for item in freq_1.keys()]\n",
    "    all_freq_itemsets = {frozenset([item]): count for item, count in freq_1.items()}\n",
    "\n",
    "    k = 2\n",
    "    while current_freq_itemsets:\n",
    "        candidates = join_sets(current_freq_itemsets, k)\n",
    "        candidates = prune_candidates(candidates, current_freq_itemsets, k)\n",
    "        freq_candidates = count_candidates(candidates, transactions, min_support)\n",
    "        if not freq_candidates:\n",
    "            break\n",
    "        current_freq_itemsets = []\n",
    "        for itemset, count in freq_candidates.items():\n",
    "            current_freq_itemsets.append(set(itemset))\n",
    "            all_freq_itemsets[itemset] = count\n",
    "\n",
    "        k += 1\n",
    "\n",
    "    return all_freq_itemsets\n",
    "\n",
    "test_final = apriori(transactions, min_support_test)\n",
    "print(test_final)"
   ]
  },
  {
   "cell_type": "code",
   "execution_count": 454,
   "id": "3ec73a6d-385c-43bd-86cd-8e971ef5c55c",
   "metadata": {},
   "outputs": [],
   "source": [
    "#Output file \n",
    "def write_output_file(freq_itemsets_dict, output_filename):\n",
    "    sorted_itemsets = sorted(freq_itemsets_dict.items(), key=lambda x: x[1], reverse=True)\n",
    "\n",
    "    with open(output_filename, 'w') as f:\n",
    "        for itemset, count in sorted_itemsets:\n",
    "            items_str = \" \".join(sorted(itemset)) \n",
    "            f.write(f\"{items_str} ({count})\\n\")\n",
    "\n",
    "output_file_name = \"output.txt2\"\n",
    "result = apriori(transactions, min_support_test)\n",
    "write_output_file(result, output_file_name)"
   ]
  },
  {
   "cell_type": "code",
   "execution_count": null,
   "id": "30543b76-fa91-4250-ba9e-6d0eca15ec9f",
   "metadata": {},
   "outputs": [],
   "source": []
  },
  {
   "cell_type": "code",
   "execution_count": null,
   "id": "6440fa4b-4372-4bd4-bf75-e57b6fd3885d",
   "metadata": {},
   "outputs": [],
   "source": []
  }
 ],
 "metadata": {
  "kernelspec": {
   "display_name": "Python 3 (ipykernel)",
   "language": "python",
   "name": "python3"
  },
  "language_info": {
   "codemirror_mode": {
    "name": "ipython",
    "version": 3
   },
   "file_extension": ".py",
   "mimetype": "text/x-python",
   "name": "python",
   "nbconvert_exporter": "python",
   "pygments_lexer": "ipython3",
   "version": "3.11.5"
  }
 },
 "nbformat": 4,
 "nbformat_minor": 5
}
